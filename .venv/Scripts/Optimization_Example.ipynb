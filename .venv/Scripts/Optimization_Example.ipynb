{
 "cells": [
  {
   "cell_type": "code",
   "execution_count": null,
   "metadata": {
    "vscode": {
     "languageId": "plaintext"
    }
   },
   "outputs": [],
   "source": [
    "import networkx as nx\n",
    "import pyomo.core as pyo\n",
    "import classiq"
   ]
  },
  {
   "cell_type": "code",
   "execution_count": null,
   "metadata": {
    "vscode": {
     "languageId": "plaintext"
    }
   },
   "outputs": [],
   "source": [
    "from pyomo.environ import *\n",
    "\n",
    "class FlightReassignmentOptimizer:\n",
    "    def __init__(self, passengers, flights, delay_matrix, capacity, eligibility_matrix):\n",
    "        \"\"\"\n",
    "        Initialize the optimization model.\n",
    "\n",
    "        :param passengers: List of passenger IDs\n",
    "        :param flights: List of flight IDs\n",
    "        :param delay_matrix: Dictionary {(i, j): delay} for passenger i and flight j\n",
    "        :param capacity: Dictionary {j: capacity} for each flight j\n",
    "        :param eligibility_matrix: Dictionary {(i, j): eligibility (0 or 1)} for passenger i and flight j\n",
    "        \"\"\"\n",
    "        self.passengers = passengers\n",
    "        self.flights = flights\n",
    "        self.delay_matrix = delay_matrix\n",
    "        self.capacity = capacity\n",
    "        self.eligibility_matrix = eligibility_matrix\n",
    "        \n",
    "        self.model = ConcreteModel()\n",
    "        self._build_model()\n",
    "    \n",
    "    def _build_model(self):\n",
    "        # Define sets\n",
    "        self.model.PASSENGERS = Set(initialize=self.passengers)\n",
    "        self.model.FLIGHTS = Set(initialize=self.flights)\n",
    "        \n",
    "        # Define binary decision variables\n",
    "        self.model.x = Var(self.model.PASSENGERS, self.model.FLIGHTS, domain=Binary)\n",
    "        \n",
    "        # Objective: Minimize total delay\n",
    "        def objective_rule(model):\n",
    "            return sum(model.x[i, j] * self.delay_matrix[i, j] \n",
    "                       for i in model.PASSENGERS \n",
    "                       for j in model.FLIGHTS)\n",
    "        self.model.objective = Objective(rule=objective_rule, sense=minimize)\n",
    "        \n",
    "        # Constraint: Each passenger is assigned to at most one flight\n",
    "        def assignment_constraint_rule(model, i):\n",
    "            return sum(model.x[i, j] for j in model.FLIGHTS) <= 1\n",
    "        self.model.assignment_constraint = Constraint(self.model.PASSENGERS, rule=assignment_constraint_rule)\n",
    "        \n",
    "        # # Constraint: Flight capacity\n",
    "        # def capacity_constraint_rule(model, j):\n",
    "        #     return sum(model.x[i, j] for i in model.PASSENGERS) <= self.capacity[j]\n",
    "        # self.model.capacity_constraint = Constraint(self.model.FLIGHTS, rule=capacity_constraint_rule)\n",
    "        \n",
    "        # # Constraint: Eligibility\n",
    "        # def eligibility_constraint_rule(model, i, j):\n",
    "        #     return model.x[i, j] <= self.eligibility_matrix[i, j]\n",
    "        # self.model.eligibility_constraint = Constraint(self.model.PASSENGERS, self.model.FLIGHTS, rule=eligibility_constraint_rule)\n",
    "    \n",
    "    def get_model(self):\n",
    "        \"\"\"\n",
    "        Return the ConcreteModel object.\n",
    "        \"\"\"\n",
    "        return self.model\n",
    "    \n",
    "    def solve(self):\n",
    "        # Solve the model using a solver\n",
    "        solver = SolverFactory('glpk')  # Use 'glpk', 'cbc', or 'gurobi' depending on availability\n",
    "        result = solver.solve(self.model)\n",
    "        return result\n",
    "    \n",
    "    def get_results(self):\n",
    "        # Extract the results: Assigned passengers and flights\n",
    "        assignments = []\n",
    "        for i in self.passengers:\n",
    "            for j in self.flights:\n",
    "                if self.model.x[i, j].value == 1:\n",
    "                    assignments.append((i, j))\n",
    "        return assignments\n"
   ]
  },
  {
   "cell_type": "code",
   "execution_count": null,
   "metadata": {
    "vscode": {
     "languageId": "plaintext"
    }
   },
   "outputs": [],
   "source": [
    "# Example data\n",
    "passengers = list(range(2))  # 10 passengers indexed 1-10\n",
    "flights = list(range(7))  # 10 flights indexed 1-10\n",
    "\n",
    "# Delay matrix: {(passenger, flight): delay_in_minutes}\n",
    "delay_matrix = {(i, j): abs(j - i) * 10 + 10 for i in passengers for j in flights}  # Example delays\n",
    "\n",
    "# Flight capacity: {flight: capacity}\n",
    "capacity = {j: 2 for j in flights}  # Each flight has 2 available seats\n",
    "\n",
    "# Eligibility matrix: {(passenger, flight): eligibility (0 or 1)}\n",
    "eligibility_matrix = {(i, j): 1 if (i + j) % 3 != 0 else 0 for i in passengers for j in flights}  # Example eligibility\n",
    "\n",
    "# Create the optimizer\n",
    "optimizer = FlightReassignmentOptimizer(passengers, flights, delay_matrix, capacity, eligibility_matrix)\n",
    "\n",
    "problem_test = optimizer.get_model()"
   ]
  },
  {
   "cell_type": "code",
   "execution_count": null,
   "metadata": {
    "vscode": {
     "languageId": "plaintext"
    }
   },
   "outputs": [],
   "source": [
    "from classiq.applications.combinatorial_optimization import (\n",
    "    QAOAConfig,\n",
    "    get_optimization_solution_from_pyo,\n",
    "    OptimizerConfig,\n",
    ")\n",
    "from classiq.execution import OptimizerType\n",
    "from classiq import construct_combinatorial_optimization_model, synthesize, show, execute\n",
    "from classiq.execution import ExecutionPreferences\n",
    "from classiq.execution import ClassiqBackendPreferences\n",
    "import pandas as pd\n",
    "from classiq import *\n",
    "\n",
    "\n",
    "qaoa_config = QAOAConfig(num_layers=4)\n",
    "optimizer_config = OptimizerConfig(\n",
    "    opt_type=OptimizerType.COBYLA, max_iteration=1000\n",
    ")\n",
    "model_test = construct_combinatorial_optimization_model(\n",
    "    pyo_model=problem_test, qaoa_config=qaoa_config\n",
    ")\n",
    "qmod_prefs = set_execution_preferences(\n",
    "    model_test,\n",
    "    ExecutionPreferences(num_shots=10000, job_name=\"Flight Reassignment\"),\n",
    ")\n",
    "\n",
    "mis_quantum_program = synthesize(model_test)\n",
    "show(mis_quantum_program)"
   ]
  },
  {
   "cell_type": "code",
   "execution_count": null,
   "metadata": {
    "vscode": {
     "languageId": "plaintext"
    }
   },
   "outputs": [],
   "source": [
    "res = execute(mis_quantum_program).result()"
   ]
  },
  {
   "cell_type": "code",
   "execution_count": null,
   "metadata": {
    "vscode": {
     "languageId": "plaintext"
    }
   },
   "outputs": [],
   "source": [
    "vqe_result = res[0].value\n",
    "solution = get_optimization_solution_from_pyo(\n",
    "    problem_test, vqe_result=vqe_result, penalty_energy=qaoa_config.penalty_energy\n",
    ")\n",
    "optimization_result = pd.DataFrame.from_records(solution)\n",
    "optimization_result.sort_values(by=\"cost\", ascending=True).head(15)"
   ]
  },
  {
   "cell_type": "code",
   "execution_count": null,
   "metadata": {
    "vscode": {
     "languageId": "plaintext"
    }
   },
   "outputs": [],
   "source": []
  }
 ],
 "metadata": {
  "language_info": {
   "name": "python"
  }
 },
 "nbformat": 4,
 "nbformat_minor": 2
}
