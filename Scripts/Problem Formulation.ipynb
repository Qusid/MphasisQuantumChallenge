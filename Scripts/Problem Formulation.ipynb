{
 "cells": [
  {
   "cell_type": "code",
   "id": "initial_id",
   "metadata": {
    "collapsed": true,
    "ExecuteTime": {
     "end_time": "2025-01-26T23:19:21.706185Z",
     "start_time": "2025-01-26T23:19:21.171374Z"
    }
   },
   "source": [
    "import numpy as np\n",
    "import matplotlib.pyplot as plt\n",
    "import pandas as pd\n",
    "import requests\n",
    "from io import StringIO,BytesIO"
   ],
   "outputs": [],
   "execution_count": 2
  },
  {
   "cell_type": "code",
   "source": [
    "def extract_flight_info(raw_url, file_type='csv'):\n",
    "    print(\"Fetching data from:\", raw_url)\n",
    "\n",
    "    # Fetch the raw file\n",
    "    headers = {\"User-Agent\": \"Mozilla/5.0\"}\n",
    "    response = requests.get(raw_url, headers=headers)\n",
    "\n",
    "    if response.status_code != 200:\n",
    "        raise Exception(f\"Failed to fetch file. HTTP Status Code: {response.status_code}\")\n",
    "\n",
    "    # Load the file into a DataFrame\n",
    "    if file_type == 'csv':\n",
    "        dataframe = pd.read_csv(StringIO(response.text))\n",
    "    elif file_type in ('xls', 'xlsx'):\n",
    "        from io import BytesIO\n",
    "        dataframe = pd.read_excel(BytesIO(response.content))\n",
    "    else:\n",
    "        raise ValueError(\"Unsupported file type. Only 'csv' and 'excel' are supported.\")\n",
    "\n",
    "    return dataframe\n",
    "\n",
    "\n",
    "# Correct raw URL\n",
    "raw_url = \"https://raw.githubusercontent.com/Qusid/MphasisQuantumChallenge/main/Data/PRMI_DM_ALL_PNRs.csv\"\n",
    "\n",
    "\n",
    "flightPNRs = extract_flight_info(raw_url)\n",
    "\n",
    "# Call the function and display results\n",
    "print(flightPNRs)  # Preview the first few rows\n"
   ],
   "metadata": {
    "collapsed": false,
    "ExecuteTime": {
     "end_time": "2025-01-26T23:23:47.123763Z",
     "start_time": "2025-01-26T23:23:46.646818Z"
    }
   },
   "id": "9f79af45cadf2fb0",
   "outputs": [
    {
     "name": "stdout",
     "output_type": "stream",
     "text": [
      "Fetching data from: https://raw.githubusercontent.com/Qusid/MphasisQuantumChallenge/main/Data/PRMI_DM_ALL_PNRs.csv\n",
      "       RECLOC CREATION_DTZ CABIN_CD  COS_CD OPER_OD_ORIG_CD OPER_OD_DEST_CD  \\\n",
      "0           0   2027-06-11        Y    23.0             EBG             TPH   \n",
      "1           1   2027-09-03        Y    21.0             KHL             RHP   \n",
      "2           1   2027-09-03        Y    21.0             KHL             RHP   \n",
      "3           1   2027-09-03        Y    20.0             RHP             KHL   \n",
      "4           1   2027-09-03        Y    20.0             RHP             KHL   \n",
      "...       ...          ...      ...     ...             ...             ...   \n",
      "43827   14185   2027-02-25        Y    10.0             PTP             NMK   \n",
      "43828   14186   2027-10-09        Y    14.0             ALN             NAD   \n",
      "43829   14186   2027-10-09        Y    14.0             ALN             NAD   \n",
      "43830   14186   2027-10-09        Y    14.0             NAD             ALN   \n",
      "43831   14186   2027-10-09        Y    14.0             NAD             ALN   \n",
      "\n",
      "                     DEP_KEY      DEP_DT ORIG_CD DEST_CD  FLT_NUM  \\\n",
      "0       AZ20271022EBGTPH6882  2027-10-22     EBG     TPH     6882   \n",
      "1       AZ20271021KHLTPH9400  2027-10-21     KHL     TPH     9400   \n",
      "2      AZ20271021TPHRHP12465  2027-10-21     TPH     RHP    12465   \n",
      "3       AZ20271104RHPTPH3571  2027-11-04     RHP     TPH     3571   \n",
      "4        AZ20271104TPHKHL548  2027-11-04     TPH     KHL      548   \n",
      "...                      ...         ...     ...     ...      ...   \n",
      "43827  AZ20271022TPHNMK13145  2027-10-22     TPH     NMK    13145   \n",
      "43828   AZ20271022ALNTPH7450  2027-10-22     ALN     TPH     7450   \n",
      "43829   AZ20271022TPHNAD5528  2027-10-22     TPH     NAD     5528   \n",
      "43830  AZ20271028NADTPH13465  2027-10-28     NAD     TPH    13465   \n",
      "43831   AZ20271028TPHALN3819  2027-10-28     TPH     ALN     3819   \n",
      "\n",
      "                  DEP_DTML             ARR_DTML             DEP_DTMZ  \\\n",
      "0      2027-10-22 15:06:00  2027-10-22 16:35:00  2027-10-22 19:06:00   \n",
      "1      2027-10-21 11:38:00  2027-10-21 16:29:00  2027-10-21 14:38:00   \n",
      "2      2027-10-21 18:25:00  2027-10-21 21:55:00  2027-10-21 23:25:00   \n",
      "3      2027-11-04 19:57:00  2027-11-04 23:25:00  2027-11-05 00:57:00   \n",
      "4      2027-11-05 00:51:00  2027-11-05 09:53:00  2027-11-05 05:51:00   \n",
      "...                    ...                  ...                  ...   \n",
      "43827  2027-10-22 13:43:00  2027-10-22 19:16:00  2027-10-22 18:43:00   \n",
      "43828  2027-10-22 16:03:00  2027-10-22 20:43:00  2027-10-22 22:03:00   \n",
      "43829  2027-10-22 21:32:00  2027-10-22 23:49:00  2027-10-23 02:32:00   \n",
      "43830  2027-10-28 20:59:00  2027-10-28 23:08:00  2027-10-29 01:59:00   \n",
      "43831  2027-10-29 01:16:00  2027-10-29 04:13:00  2027-10-29 06:16:00   \n",
      "\n",
      "                  ARR_DTMZ  OD_BROKEN_IND  PAX_CNT       CVM  CONN_TIME_MINS  \n",
      "0      2027-10-22 21:35:00              0        1  3.321928             NaN  \n",
      "1      2027-10-21 21:29:00              0        3  5.689050             NaN  \n",
      "2      2027-10-22 02:55:00              0        3  5.689050           116.0  \n",
      "3      2027-11-05 04:25:00              0        3  5.689050             NaN  \n",
      "4      2027-11-05 12:53:00              0        3  5.689050            86.0  \n",
      "...                    ...            ...      ...       ...             ...  \n",
      "43827  2027-10-23 00:16:00              0        1  5.603888            65.0  \n",
      "43828  2027-10-23 01:43:00              0        2  3.760025             NaN  \n",
      "43829  2027-10-23 04:49:00              0        2  3.760025            49.0  \n",
      "43830  2027-10-29 04:08:00              0        2  3.760025             NaN  \n",
      "43831  2027-10-29 10:13:00              0        2  3.760025           128.0  \n",
      "\n",
      "[43832 rows x 19 columns]\n"
     ]
    }
   ],
   "execution_count": 6
  },
  {
   "metadata": {
    "ExecuteTime": {
     "end_time": "2025-01-27T01:23:27.525309Z",
     "start_time": "2025-01-27T01:23:27.512437Z"
    }
   },
   "cell_type": "code",
   "source": [
    "#Create CVM function \n",
    "\n",
    "##Ideally I want to make it so you can adjust the weights manually\n",
    "def CVM(df):\n",
    "    '''\n",
    "    \n",
    "    :param dataframe: The data frame containing flights \n",
    "    :return: Dataframe with attached CVM scores \n",
    "    '''\n",
    "    # Define weights for the CVM score calculation\n",
    "    weights = {\n",
    "        'Cabin': 0.3,  # Weight for cabin code\n",
    "        'Group_Size': 0.1,  # Weight for group size\n",
    "        'Connection': 0.1,  # Weight for connection time impact\n",
    "        'Delay': 0.1,  # Weight for delay penalty\n",
    "        'Seat_Availability': 0.05  # Weight for seat availability (if applicable)\n",
    "    }\n",
    "\n",
    "    # Ensure the DataFrame contains the expected columns\n",
    "    # Here are the mappings based on the dataseet:\n",
    "    df['Cabin_Score'] = df['CABIN_CD'].map({ 'C': 0.7, 'Y': 0.5})  # Scores to be adjusted C is premium Y is economy\n",
    "    df['Group_Size_Impact'] = 1 / (1 + df['PAX_CNT'])  # Smaller group sizes get higher scores\n",
    "    # Ensure datetime conversion for delay calculation\n",
    "    df['ARR_DTML'] = pd.to_datetime(df['ARR_DTML'], errors='coerce')\n",
    "    df['DEP_DTML'] = pd.to_datetime(df['DEP_DTML'], errors='coerce')\n",
    "    df['CONN_TIME_MINS'] = df['CONN_TIME_MINS'].fillna(0) # Fill NaN values with 0\n",
    "    df['Connection_Impact'] = df['CONN_TIME_MINS'] / 60  # Normalize connection time (assuming 60 minutes is ideal)\n",
    "    df['Delay_Penalty'] = (df['ARR_DTML'] - df['DEP_DTML']).dt.total_seconds() / 3600  # Calculate delay in hours\n",
    "    df['Delay_Penalty'] = df['Delay_Penalty'] / df['Delay_Penalty'].max()  # Normalize delay\n",
    "    df['Available_Seat_Impact'] = 1  # Set a default value if availability is not in your dataset\n",
    "\n",
    "    # Calculate CVM Score using the weighted formula\n",
    "    df['CVM_Score'] = (\n",
    "        weights['Cabin'] * df['Cabin_Score'] +\n",
    "        weights['Group_Size'] * df['Group_Size_Impact'] +\n",
    "        weights['Connection'] * df['Connection_Impact'] +\n",
    "        weights['Delay'] * (1 - df['Delay_Penalty']) +  # Higher delay reduces score\n",
    "        weights['Seat_Availability'] * df['Available_Seat_Impact']\n",
    "    )\n",
    "    \n",
    "    return df"
   ],
   "id": "16f239bfafd36597",
   "outputs": [],
   "execution_count": 31
  },
  {
   "cell_type": "code",
   "source": [
    "## Make a smaller copy of the data to test CVM \n",
    "df = flightPNRs.copy()\n",
    "df = CVM(df)\n",
    "print(df)\n"
   ],
   "metadata": {
    "collapsed": false,
    "ExecuteTime": {
     "end_time": "2025-01-27T01:23:30.148801Z",
     "start_time": "2025-01-27T01:23:30.036219Z"
    }
   },
   "id": "8b7ebe5ccf7c6465",
   "outputs": [
    {
     "name": "stdout",
     "output_type": "stream",
     "text": [
      "       RECLOC CREATION_DTZ CABIN_CD  COS_CD OPER_OD_ORIG_CD OPER_OD_DEST_CD  \\\n",
      "0           0   2027-06-11        Y    23.0             EBG             TPH   \n",
      "1           1   2027-09-03        Y    21.0             KHL             RHP   \n",
      "2           1   2027-09-03        Y    21.0             KHL             RHP   \n",
      "3           1   2027-09-03        Y    20.0             RHP             KHL   \n",
      "4           1   2027-09-03        Y    20.0             RHP             KHL   \n",
      "...       ...          ...      ...     ...             ...             ...   \n",
      "43827   14185   2027-02-25        Y    10.0             PTP             NMK   \n",
      "43828   14186   2027-10-09        Y    14.0             ALN             NAD   \n",
      "43829   14186   2027-10-09        Y    14.0             ALN             NAD   \n",
      "43830   14186   2027-10-09        Y    14.0             NAD             ALN   \n",
      "43831   14186   2027-10-09        Y    14.0             NAD             ALN   \n",
      "\n",
      "                     DEP_KEY      DEP_DT ORIG_CD DEST_CD  ...  OD_BROKEN_IND  \\\n",
      "0       AZ20271022EBGTPH6882  2027-10-22     EBG     TPH  ...              0   \n",
      "1       AZ20271021KHLTPH9400  2027-10-21     KHL     TPH  ...              0   \n",
      "2      AZ20271021TPHRHP12465  2027-10-21     TPH     RHP  ...              0   \n",
      "3       AZ20271104RHPTPH3571  2027-11-04     RHP     TPH  ...              0   \n",
      "4        AZ20271104TPHKHL548  2027-11-04     TPH     KHL  ...              0   \n",
      "...                      ...         ...     ...     ...  ...            ...   \n",
      "43827  AZ20271022TPHNMK13145  2027-10-22     TPH     NMK  ...              0   \n",
      "43828   AZ20271022ALNTPH7450  2027-10-22     ALN     TPH  ...              0   \n",
      "43829   AZ20271022TPHNAD5528  2027-10-22     TPH     NAD  ...              0   \n",
      "43830  AZ20271028NADTPH13465  2027-10-28     NAD     TPH  ...              0   \n",
      "43831   AZ20271028TPHALN3819  2027-10-28     TPH     ALN  ...              0   \n",
      "\n",
      "      PAX_CNT       CVM CONN_TIME_MINS Cabin_Score  Group_Size_Impact  \\\n",
      "0           1  3.321928            0.0         0.5           0.500000   \n",
      "1           3  5.689050            0.0         0.5           0.250000   \n",
      "2           3  5.689050          116.0         0.5           0.250000   \n",
      "3           3  5.689050            0.0         0.5           0.250000   \n",
      "4           3  5.689050           86.0         0.5           0.250000   \n",
      "...       ...       ...            ...         ...                ...   \n",
      "43827       1  5.603888           65.0         0.5           0.500000   \n",
      "43828       2  3.760025            0.0         0.5           0.333333   \n",
      "43829       2  3.760025           49.0         0.5           0.333333   \n",
      "43830       2  3.760025            0.0         0.5           0.333333   \n",
      "43831       2  3.760025          128.0         0.5           0.333333   \n",
      "\n",
      "       Connection_Impact  Delay_Penalty  Available_Seat_Impact  CVM_Score  \n",
      "0               0.000000       0.054601                      1   0.344540  \n",
      "1               0.000000       0.178528                      1   0.307147  \n",
      "2               1.933333       0.128834                      1   0.505450  \n",
      "3               0.000000       0.127607                      1   0.312239  \n",
      "4               1.433333       0.332515                      1   0.435082  \n",
      "...                  ...            ...                    ...        ...  \n",
      "43827           1.083333       0.204294                      1   0.437904  \n",
      "43828           0.000000       0.171779                      1   0.316155  \n",
      "43829           0.816667       0.084049                      1   0.406595  \n",
      "43830           0.000000       0.079141                      1   0.325419  \n",
      "43831           2.133333       0.108589                      1   0.535808  \n",
      "\n",
      "[43832 rows x 25 columns]\n"
     ]
    }
   ],
   "execution_count": 32
  },
  {
   "metadata": {},
   "cell_type": "code",
   "outputs": [],
   "execution_count": null,
   "source": "",
   "id": "c8cd4a0788f807cd"
  }
 ],
 "metadata": {
  "kernelspec": {
   "display_name": "Python 3",
   "language": "python",
   "name": "python3"
  },
  "language_info": {
   "codemirror_mode": {
    "name": "ipython",
    "version": 2
   },
   "file_extension": ".py",
   "mimetype": "text/x-python",
   "name": "python",
   "nbconvert_exporter": "python",
   "pygments_lexer": "ipython2",
   "version": "2.7.6"
  }
 },
 "nbformat": 4,
 "nbformat_minor": 5
}
